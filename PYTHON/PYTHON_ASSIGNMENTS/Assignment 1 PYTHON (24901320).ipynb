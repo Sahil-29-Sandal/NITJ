{
 "cells": [
  {
   "cell_type": "code",
   "execution_count": 1,
   "id": "65da18e1",
   "metadata": {},
   "outputs": [
    {
     "name": "stdout",
     "output_type": "stream",
     "text": [
      "Enter x1: 45\n",
      "Enter y1: 56\n",
      "Enter x2: 67\n",
      "Enter y2: 76\n",
      "The distance between the points (45.0, 56.0) and (67.0, 76.0) is: 29.732137494637012\n"
     ]
    }
   ],
   "source": [
    "# Question 1 :: Write a program to calculate the distance between two points.\n",
    "\n",
    "import math\n",
    "\n",
    "def calculate_distance(point1, point2):\n",
    "    \"\"\"Calculates the Euclidean distance between two points in a 2D plane.\n",
    "\n",
    "    Args:\n",
    "        point1: A tuple representing the coordinates of the first point (x1, y1).\n",
    "        point2: A tuple representing the coordinates of the second point (x2, y2).\n",
    "\n",
    "    Returns:\n",
    "        The Euclidean distance between the two points.\n",
    "    \"\"\"\n",
    "\n",
    "    x1, y1 = point1\n",
    "    x2, y2 = point2\n",
    "    distance = math.sqrt((x2 - x1)**2 + (y2 - y1)**2)\n",
    "    return distance\n",
    "\n",
    "# Get user input for the coordinates of the two points\n",
    "point1 = (float(input(\"Enter x1: \")), float(input(\"Enter y1: \")))\n",
    "point2 = (float(input(\"Enter x2: \")), float(input(\"Enter y2: \")))\n",
    "\n",
    "# Calculate and display the distance\n",
    "distance = calculate_distance(point1, point2)\n",
    "print(f\"The distance between the points ({point1[0]}, {point1[1]}) and ({point2[0]}, {point2[1]}) is: {distance}\")"
   ]
  },
  {
   "cell_type": "code",
   "execution_count": 2,
   "id": "c7542edf",
   "metadata": {},
   "outputs": [
    {
     "name": "stdout",
     "output_type": "stream",
     "text": [
      "Enter the length of side 1: 45\n",
      "Enter the length of side 2: 67\n",
      "Enter the length of side 3: 76\n",
      "The area of the triangle with sides 45.0, 67.0, and 76.0 is: 1496.1671029667775\n"
     ]
    }
   ],
   "source": [
    "# QUESTION 2 :: Write a program to calculate the area of a triangle using Heron's formula.\n",
    "\n",
    "import math\n",
    "\n",
    "def calculate_triangle_area(side1, side2, side3):\n",
    "    \"\"\"Calculates the area of a triangle using Heron's formula.\n",
    "\n",
    "    Args:\n",
    "        side1: The length of the first side.\n",
    "        side2: The length of the second side.\n",
    "        side3: The length of the third side.\n",
    "\n",
    "    Returns:\n",
    "        The area of the triangle, or None if the sides cannot form a triangle.\n",
    "    \"\"\"\n",
    "\n",
    "    # Check if the sides can form a triangle\n",
    "    if not (side1 + side2 > side3 and side1 + side3 > side2 and side2 + side3 > side1):\n",
    "        return None\n",
    "\n",
    "    # Calculate the semi-perimeter\n",
    "    semi_perimeter = (side1 + side2 + side3) / 2\n",
    "\n",
    "    # Calculate the area using Heron's formula\n",
    "    area = math.sqrt(semi_perimeter * (semi_perimeter - side1) * (semi_perimeter - side2) * (semi_perimeter - side3))\n",
    "\n",
    "    return area\n",
    "\n",
    "# Get user input for the sides of the triangle\n",
    "side1 = float(input(\"Enter the length of side 1: \"))\n",
    "side2 = float(input(\"Enter the length of side 2: \"))\n",
    "side3 = float(input(\"Enter the length of side 3: \"))\n",
    "\n",
    "# Calculate and display the area\n",
    "area = calculate_triangle_area(side1, side2, side3)\n",
    "if area is not None:\n",
    "    print(f\"The area of the triangle with sides {side1}, {side2}, and {side3} is: {area}\")\n",
    "else:\n",
    "    print(\"Error: The input values cannot form a valid triangle.\")"
   ]
  },
  {
   "cell_type": "code",
   "execution_count": 3,
   "id": "61f31727",
   "metadata": {},
   "outputs": [
    {
     "name": "stdout",
     "output_type": "stream",
     "text": [
      "Initial values:\n",
      "Variable 1: 7\n",
      "Variable 2: 3\n",
      "\n",
      "After swapping:\n",
      "Variable 1: 3\n",
      "Variable 2: 7\n"
     ]
    }
   ],
   "source": [
    "# QUESTION 4:: Given two variables, a = 7 and b = 3, write a Python code snippet to swap their values without using a temporary variable. What will be the values of a and b after the swap?\n",
    "# Initialize variables\n",
    "variable1 = 7\n",
    "variable2 = 3\n",
    "\n",
    "# Display initial values\n",
    "print(\"Initial values:\")\n",
    "print(f\"Variable 1: {variable1}\")\n",
    "print(f\"Variable 2: {variable2}\")\n",
    "\n",
    "# Swap values using tuple unpacking\n",
    "variable1, variable2 = variable2, variable1\n",
    "\n",
    "# Display swapped values\n",
    "print(\"\\nAfter swapping:\")\n",
    "print(f\"Variable 1: {variable1}\")\n",
    "print(f\"Variable 2: {variable2}\")"
   ]
  },
  {
   "cell_type": "code",
   "execution_count": 6,
   "id": "2cf6cf71",
   "metadata": {},
   "outputs": [
    {
     "name": "stdout",
     "output_type": "stream",
     "text": [
      "The average of the numbers is: 30.0\n"
     ]
    }
   ],
   "source": [
    "# QUESTION 5:: Given a list of numbers = [10, 20, 30, 40, 50], write a Python code snippet to calculate the average of these numbers using arithmetic operators.\n",
    "\n",
    "# Given list of numbers\n",
    "numbers = [10, 20, 30, 40, 50]\n",
    "\n",
    "# Calculate the sum of the numbers\n",
    "total_sum = sum(numbers)\n",
    "\n",
    "# Calculate the count of numbers\n",
    "count = len(numbers)\n",
    "\n",
    "# Calculate the average\n",
    "average = total_sum / count\n",
    "\n",
    "# Print the average\n",
    "print(f\"The average of the numbers is: {average}\")"
   ]
  },
  {
   "cell_type": "code",
   "execution_count": 5,
   "id": "cac1229c",
   "metadata": {},
   "outputs": [
    {
     "name": "stdout",
     "output_type": "stream",
     "text": [
      "Select an operation:\n",
      "1. Add\n",
      "2. Subtract\n",
      "3. Multiply\n",
      "4. Divide\n",
      "Enter your choice (1/2/3/4): 1\n",
      "Enter the first number: 45\n",
      "Enter the second number: 45\n",
      "The result is: 90.0\n"
     ]
    }
   ],
   "source": [
    "# QUESTION 6 :: Write a simple basic calculator program in python.\n",
    "def add(num1, num2):\n",
    "    \"\"\"Adds two numbers.\"\"\"\n",
    "    return num1 + num2\n",
    "\n",
    "def subtract(num1, num2):\n",
    "    \"\"\"Subtracts the second number from the first.\"\"\"\n",
    "    return num1 - num2\n",
    "\n",
    "def multiply(num1, num2):\n",
    "    \"\"\"Multiplies two numbers.\"\"\"\n",
    "    return num1 * num2\n",
    "\n",
    "def divide(num1, num2):\n",
    "    \"\"\"Divides the first number by the second.\n",
    "\n",
    "    Args:\n",
    "        num1: The first number.\n",
    "        num2: The second number.\n",
    "\n",
    "    Returns:\n",
    "        The quotient of the division. If the second number is zero, returns an error message.\n",
    "    \"\"\"\n",
    "\n",
    "    if num2 == 0:\n",
    "        return \"Error: Division by zero is not allowed.\"\n",
    "    else:\n",
    "        return num1 / num2\n",
    "\n",
    "def main():\n",
    "    \"\"\"The main function of the calculator program.\"\"\"\n",
    "\n",
    "    print(\"Select an operation:\")\n",
    "    print(\"1. Add\")\n",
    "    print(\"2. Subtract\")\n",
    "    print(\"3. Multiply\")\n",
    "    print(\"4. Divide\")\n",
    "\n",
    "    choice = input(\"Enter your choice (1/2/3/4): \")\n",
    "\n",
    "    num1 = float(input(\"Enter the first number: \"))\n",
    "    num2 = float(input(\"Enter the second number: \"))\n",
    "\n",
    "    if choice == '1':\n",
    "        result = add(num1, num2)\n",
    "    elif choice == '2':\n",
    "        result = subtract(num1, num2)\n",
    "    elif choice == '3':\n",
    "        result = multiply(num1, num2)\n",
    "    elif choice == '4':\n",
    "        result = divide(num1, num2)\n",
    "    else:\n",
    "        print(\"Invalid input\")\n",
    "\n",
    "    print(f\"The result is: {result}\")\n",
    "\n",
    "if __name__ == \"__main__\":\n",
    "    main()"
   ]
  },
  {
   "cell_type": "code",
   "execution_count": null,
   "id": "e8fa7e00",
   "metadata": {},
   "outputs": [],
   "source": []
  }
 ],
 "metadata": {
  "kernelspec": {
   "display_name": "Python 3 (ipykernel)",
   "language": "python",
   "name": "python3"
  },
  "language_info": {
   "codemirror_mode": {
    "name": "ipython",
    "version": 3
   },
   "file_extension": ".py",
   "mimetype": "text/x-python",
   "name": "python",
   "nbconvert_exporter": "python",
   "pygments_lexer": "ipython3",
   "version": "3.11.7"
  }
 },
 "nbformat": 4,
 "nbformat_minor": 5
}
