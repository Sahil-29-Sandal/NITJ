{
 "cells": [
  {
   "cell_type": "code",
   "execution_count": 1,
   "id": "a8e4e163",
   "metadata": {},
   "outputs": [],
   "source": [
    "# question :1: Fetch data from a specific URL and print it on screen\n",
    "import requests\n",
    "\n",
    "def fetch_data():\n",
    "    url = \"https://example.com\"  # Replace with your desired URL\n",
    "    response = requests.get(url)\n",
    "    if response.status_code == 200:\n",
    "        print(response.text)\n",
    "    else:\n",
    "        print(f\"Failed to fetch data. Status code: {response.status_code}\")\n"
   ]
  },
  {
   "cell_type": "code",
   "execution_count": 2,
   "id": "4726abf0",
   "metadata": {},
   "outputs": [],
   "source": [
    "# question :2: Compute the total size of all files in the current directory\n",
    "import os\n",
    "\n",
    "def compute_total_size():\n",
    "    total_size = sum(os.path.getsize(f) for f in os.listdir('.') if os.path.isfile(f))\n",
    "    print(f\"Total size of all files: {total_size} bytes\")\n"
   ]
  },
  {
   "cell_type": "code",
   "execution_count": 3,
   "id": "592802ef",
   "metadata": {},
   "outputs": [],
   "source": [
    "# question :3: Copy a file line by line with line numbers\n",
    "def copy_file_with_line_numbers():\n",
    "    with open(\"source.txt\", 'r') as src, open(\"destination.txt\", 'w') as dest:\n",
    "        for i, line in enumerate(src, start=1):\n",
    "            dest.write(f\"{i}: {line}\")"
   ]
  },
  {
   "cell_type": "code",
   "execution_count": 4,
   "id": "8127281d",
   "metadata": {},
   "outputs": [
    {
     "ename": "SyntaxError",
     "evalue": "f-string expression part cannot include a backslash (2580578972.py, line 5)",
     "output_type": "error",
     "traceback": [
      "\u001b[1;36m  Cell \u001b[1;32mIn[4], line 5\u001b[1;36m\u001b[0m\n\u001b[1;33m    print(f\"Tabs: {content.count('\\\\t')}, Spaces: {content.count(' ')}, Newlines: {content.count('\\\\n')}\")\u001b[0m\n\u001b[1;37m                                                                                                         ^\u001b[0m\n\u001b[1;31mSyntaxError\u001b[0m\u001b[1;31m:\u001b[0m f-string expression part cannot include a backslash\n"
     ]
    }
   ],
   "source": [
    "# question :4: Count tabs, spaces, and newlines in a file\n",
    "def count_characters():\n",
    "    with open(\"example.txt\", 'r') as file:\n",
    "        content = file.read()\n",
    "        print(f\"Tabs: {content.count('\\\\t')}, Spaces: {content.count(' ')}, Newlines: {content.count('\\\\n')}\")\n"
   ]
  },
  {
   "cell_type": "code",
   "execution_count": null,
   "id": "b4d5e14b",
   "metadata": {},
   "outputs": [],
   "source": [
    "# question :5: Calculate the percentage of vowels and consonants in a file\n",
    "def calculate_vowel_consonant_percentage():\n",
    "    vowels = \"aeiouAEIOU\"\n",
    "    with open(\"example.txt\", 'r') as file:\n",
    "        text = file.read()\n",
    "        total_chars = len(text)\n",
    "        vowel_count = sum(1 for char in text if char in vowels)\n",
    "        consonant_count = sum(1 for char in text if char.isalpha() and char not in vowels)\n",
    "        if total_chars > 0:\n",
    "            print(f\"Vowels: {vowel_count / total_chars:.2%}, Consonants: {consonant_count / total_chars:.2%}\")\n",
    "        else:\n",
    "            print(\"File is empty.\")\n"
   ]
  },
  {
   "cell_type": "code",
   "execution_count": null,
   "id": "c971967a",
   "metadata": {},
   "outputs": [],
   "source": [
    "# question :6: File access modes\n",
    "def list_access_modes():\n",
    "    print(\"\"\"\n",
    "    'r'  - Read mode (default). File must exist.\n",
    "    'w'  - Write mode. Creates a new file or truncates an existing file.\n",
    "    'a'  - Append mode. Writes data to the end of the file.\n",
    "    'rb' - Read mode in binary.\n",
    "    'wb' - Write mode in binary.\n",
    "    'ab' - Append mode in binary.\n",
    "    'r+' - Read and write mode. File must exist.\n",
    "    'w+' - Write and read mode. Creates a new file or truncates an existing file.\n",
    "    'a+' - Append and read mode. Writes to the end of the file.\n",
    "    \"\"\")\n"
   ]
  },
  {
   "cell_type": "code",
   "execution_count": null,
   "id": "00762ae8",
   "metadata": {},
   "outputs": [],
   "source": [
    "# question :7: Format text and save to a file\n",
    "def format_text():\n",
    "    text = \"this is a test. it has numbers 123.\"\n",
    "    formatted = \"\"\n",
    "    capitalize = True\n",
    "    for char in text:\n",
    "        if char == '.':\n",
    "            formatted += char\n",
    "            capitalize = True\n",
    "        elif char.isdigit():\n",
    "            formatted += f\"({char})\"\n",
    "        elif capitalize and char.isalpha():\n",
    "            formatted += char.upper()\n",
    "            capitalize = False\n",
    "        else:\n",
    "            formatted += char\n",
    "    with open(\"formatted_output.txt\", 'w') as file:\n",
    "        file.write(formatted)\n",
    "    print(\"Formatted text saved to formatted_output.txt\")\n"
   ]
  },
  {
   "cell_type": "code",
   "execution_count": null,
   "id": "dba3b122",
   "metadata": {},
   "outputs": [],
   "source": [
    "# question :8: Replace full stops with commas and save to a new file\n",
    "def replace_full_stops():\n",
    "    with open(\"source.txt\", 'r') as src, open(\"destination_with_commas.txt\", 'w') as dest:\n",
    "        for line in src:\n",
    "            dest.write(line.replace('.', ','))\n",
    "    print(\"File copied with full stops replaced by commas.\")"
   ]
  },
  {
   "cell_type": "code",
   "execution_count": null,
   "id": "cebc3766",
   "metadata": {},
   "outputs": [],
   "source": []
  },
  {
   "cell_type": "code",
   "execution_count": null,
   "id": "d12e185b",
   "metadata": {},
   "outputs": [],
   "source": []
  },
  {
   "cell_type": "code",
   "execution_count": null,
   "id": "91535577",
   "metadata": {},
   "outputs": [],
   "source": []
  },
  {
   "cell_type": "code",
   "execution_count": null,
   "id": "30b7a4b2",
   "metadata": {},
   "outputs": [],
   "source": []
  }
 ],
 "metadata": {
  "kernelspec": {
   "display_name": "Python 3 (ipykernel)",
   "language": "python",
   "name": "python3"
  },
  "language_info": {
   "codemirror_mode": {
    "name": "ipython",
    "version": 3
   },
   "file_extension": ".py",
   "mimetype": "text/x-python",
   "name": "python",
   "nbconvert_exporter": "python",
   "pygments_lexer": "ipython3",
   "version": "3.11.7"
  }
 },
 "nbformat": 4,
 "nbformat_minor": 5
}
