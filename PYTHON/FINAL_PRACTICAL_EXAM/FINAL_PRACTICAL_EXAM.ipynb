{
 "cells": [
  {
   "cell_type": "code",
   "execution_count": 2,
   "id": "938cd776",
   "metadata": {},
   "outputs": [
    {
     "name": "stdout",
     "output_type": "stream",
     "text": [
      "Enter integers : 3 4 5 6 7 8 9 \n",
      "Original List: [3, 4, 5, 6, 7, 8, 9]\n",
      "Transformed List: [36, 49, 64, 81]\n"
     ]
    }
   ],
   "source": [
    "# a i) accept a list of interger from the user\n",
    "   #2) use list comprehension to create a new lkist where each element is teh square of the corresponding element in the original list but only if the element is greater than 5\n",
    "    # 3) print the original list and the tranformed list\n",
    "    \n",
    "   \n",
    "list1 = list(map(int, input(\"Enter integers : \").split()))\n",
    "\n",
    "\n",
    "squares = [n * n for n in list1 if n > 5]\n",
    "\n",
    "\n",
    "print(\"Original List:\", list1)\n",
    "print(\"Transformed List:\", squares)\n"
   ]
  },
  {
   "cell_type": "code",
   "execution_count": 3,
   "id": "f1b1491f",
   "metadata": {},
   "outputs": [
    {
     "name": "stdout",
     "output_type": "stream",
     "text": [
      "Enter a positive number n: 35\n",
      "Enter a positive number m  66\n",
      "Invalid input. Make sure 0 < m <= n.\n"
     ]
    }
   ],
   "source": [
    "# b) write a function that accepts two positive numbers n amd m where m is <=n.and return number betqween 1 and n that are divisible by m\n",
    "\n",
    "\n",
    "\n",
    "def divisible_num(n, m): \n",
    "   \n",
    "    return [x for x in range(1, n + 1) if x % m == 0]\n",
    "\n",
    "\n",
    "n = int(input(\"Enter a positive number n: \"))\n",
    "m = int(input(\"Enter a positive number m  \"))\n",
    "\n",
    "\n",
    "if m > n or m <= 0 or n <= 0:\n",
    "    print(\"Invalid input. Make sure 0 < m <= n.\")\n",
    "else:\n",
    "  \n",
    "    result = divisible_num(n, m)\n",
    "    print(f\"Numbers between 1 and {n} that are divisible by {m}:\", result)\n"
   ]
  },
  {
   "cell_type": "code",
   "execution_count": 8,
   "id": "3fc72877",
   "metadata": {},
   "outputs": [
    {
     "name": "stdout",
     "output_type": "stream",
     "text": [
      "Original Dictionary: {'a': 1, 'b': 2, 'c': 3, 'd': 4}\n",
      "Updated Dictionary: {'a': 1.1, 'b': 2, 'c': 3.3, 'd': 4}\n"
     ]
    }
   ],
   "source": [
    "## given lists :\n",
    "## key = ['a','b','c','d']\n",
    "## values = [1,2,3,4]\n",
    "## A) Merge these lists into dictionary where the keys are from the keys and the key lisst and the values are from the value list.\n",
    "## B) Apply a 10% increase to the values for keys \"z\"and \"c\", and leave others unchanged\n",
    "\n",
    "\n",
    "\n",
    "keys = ['a', 'b', 'c', 'd']\n",
    "values = [1, 2, 3, 4]\n",
    "\n",
    "\n",
    "dict1 = {}  \n",
    "for i in range(len(keys)):  \n",
    "    dict1[keys[i]] = values[i] \n",
    "\n",
    "print(\"Original Dictionary:\", dict1)\n",
    "\n",
    "increase = ['a', 'c']\n",
    "for k in increase:\n",
    "    if k in dict1:  # Check if the key exists in the dictionary\n",
    "        dict1[k] = dict1[k] + (dict1[k] * 10 / 100)  # Increase value by 10%\n",
    "\n",
    "print(\"Updated Dictionary:\",dict1)\n"
   ]
  },
  {
   "cell_type": "code",
   "execution_count": null,
   "id": "97b8c7db",
   "metadata": {},
   "outputs": [],
   "source": []
  }
 ],
 "metadata": {
  "kernelspec": {
   "display_name": "Python 3 (ipykernel)",
   "language": "python",
   "name": "python3"
  },
  "language_info": {
   "codemirror_mode": {
    "name": "ipython",
    "version": 3
   },
   "file_extension": ".py",
   "mimetype": "text/x-python",
   "name": "python",
   "nbconvert_exporter": "python",
   "pygments_lexer": "ipython3",
   "version": "3.11.7"
  }
 },
 "nbformat": 4,
 "nbformat_minor": 5
}
